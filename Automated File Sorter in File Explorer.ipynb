{
 "cells": [
  {
   "cell_type": "markdown",
   "id": "f704630c",
   "metadata": {},
   "source": [
    "# Automated File Sorter in File Explorer"
   ]
  },
  {
   "cell_type": "code",
   "execution_count": 7,
   "id": "7217bd18",
   "metadata": {},
   "outputs": [],
   "source": [
    "import os,shutil"
   ]
  },
  {
   "cell_type": "code",
   "execution_count": 8,
   "id": "d9aceb43",
   "metadata": {},
   "outputs": [],
   "source": [
    "path=r'C:/Users/arunl/OneDrive/Desktop/python tutorial/'"
   ]
  },
  {
   "cell_type": "code",
   "execution_count": 9,
   "id": "5e24689d",
   "metadata": {},
   "outputs": [],
   "source": [
    "File_name=os.listdir(path)"
   ]
  },
  {
   "cell_type": "code",
   "execution_count": 10,
   "id": "b599d3d5",
   "metadata": {},
   "outputs": [
    {
     "name": "stdout",
     "output_type": "stream",
     "text": [
      "C:/Users/arunl/OneDrive/Desktop/python tutorial/pdf files\n",
      "C:/Users/arunl/OneDrive/Desktop/python tutorial/csv files\n",
      "C:/Users/arunl/OneDrive/Desktop/python tutorial/jpg files\n"
     ]
    }
   ],
   "source": [
    "Folder_Name=['pdf files','csv files','jpg files']\n",
    "\n",
    "for loop in range(0,3):\n",
    "    if not os.path.exists(path + Folder_Name[loop]):\n",
    "     print((path + Folder_Name[loop]))\n",
    "    os.makedirs(path + Folder_Name[loop])"
   ]
  },
  {
   "cell_type": "code",
   "execution_count": 11,
   "id": "42a883f0",
   "metadata": {},
   "outputs": [
    {
     "name": "stdout",
     "output_type": "stream",
     "text": [
      "there are files in our path that were not moved\n"
     ]
    }
   ],
   "source": [
    "for file in File_name:\n",
    "    if '.csv' in file and not os.path.exists(path + 'csv files/'+ file):\n",
    "     shutil.move(path + file , path + 'csv files/'+ file)\n",
    "    elif '.jpg' in file and not os.path.exists(path + 'jpg files/'+ file):\n",
    "     shutil.move(path + file , path + 'jpg files/'+ file)   \n",
    "    elif '.pdf' in file and not os.path.exists(path + 'pdf files/'+ file):\n",
    "     shutil.move(path + file , path + 'pdf files/'+ file)\n",
    "    else:\n",
    "        print('there are files in our path that were not moved')"
   ]
  },
  {
   "cell_type": "code",
   "execution_count": null,
   "id": "6048d565",
   "metadata": {},
   "outputs": [],
   "source": []
  },
  {
   "cell_type": "code",
   "execution_count": null,
   "id": "f0a09a8e",
   "metadata": {},
   "outputs": [],
   "source": []
  },
  {
   "cell_type": "code",
   "execution_count": null,
   "id": "28275d07",
   "metadata": {},
   "outputs": [],
   "source": []
  },
  {
   "cell_type": "code",
   "execution_count": null,
   "id": "71d0be9e",
   "metadata": {},
   "outputs": [],
   "source": []
  },
  {
   "cell_type": "code",
   "execution_count": null,
   "id": "8ace28d1",
   "metadata": {},
   "outputs": [],
   "source": []
  },
  {
   "cell_type": "code",
   "execution_count": null,
   "id": "f724928a",
   "metadata": {},
   "outputs": [],
   "source": []
  }
 ],
 "metadata": {
  "kernelspec": {
   "display_name": "Python 3 (ipykernel)",
   "language": "python",
   "name": "python3"
  },
  "language_info": {
   "codemirror_mode": {
    "name": "ipython",
    "version": 3
   },
   "file_extension": ".py",
   "mimetype": "text/x-python",
   "name": "python",
   "nbconvert_exporter": "python",
   "pygments_lexer": "ipython3",
   "version": "3.11.3"
  }
 },
 "nbformat": 4,
 "nbformat_minor": 5
}
